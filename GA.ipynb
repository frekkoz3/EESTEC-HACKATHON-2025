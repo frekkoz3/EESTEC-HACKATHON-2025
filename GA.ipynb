{
 "cells": [
  {
   "cell_type": "code",
   "execution_count": 36,
   "id": "d3043edc",
   "metadata": {},
   "outputs": [],
   "source": [
    "#install\n",
    "import pybamm\n",
    "import pybammeis\n",
    "import matplotlib.pyplot as plt\n",
    "import numpy as np\n",
    "from copy import deepcopy"
   ]
  },
  {
   "cell_type": "code",
   "execution_count": null,
   "id": "74d6c7ac",
   "metadata": {},
   "outputs": [],
   "source": [
    "# Define a class containing the DFN model or PMe model with degradation mechanisms(SEI growth & lithium plating and particle cracking)\n",
    "class simul():\n",
    "    def __init__(self, profile, cycles):\n",
    "        self.exp = profile\n",
    "\n",
    "        self.model = pybamm.lithium_ion.DFN(\n",
    "            {\n",
    "            \"thermal\": \"isothermal\",\n",
    "            \"SEI\": \"solvent-diffusion limited\",\n",
    "            \"SEI porosity change\": \"true\",\n",
    "            \"lithium plating\": \"partially reversible\",\n",
    "            \"lithium plating porosity change\": \"true\",  # alias for \"SEI porosity change\"\n",
    "            \"particle mechanics\": (\"swelling and cracking\",\"swelling only\"),\n",
    "            \"SEI on cracks\": \"true\",\n",
    "                \"loss of active material\": \"stress-driven\",\n",
    "                \"calculate discharge energy\": \"true\",  # for compatibility with older PyBaMM versionsg\n",
    "            })\n",
    "        \n",
    "        self.aged_model = deepcopy(self.model)\n",
    "\n",
    "        self.param = pybamm.ParameterValues(\"OKane2022\")\n",
    "        self.param.update({\n",
    "            \"Initial temperature [K]\": 278.15, #change the temperature \n",
    "            \"SEI growth activation energy [J.mol-1]\": 37000.0,\n",
    "            \"Ambient temperature [K]\": 293.15,},)\n",
    "\n",
    "        # Discretization points\n",
    "        self.var_pts = {\n",
    "            \"x_n\": 5,\n",
    "            \"x_s\": 5,\n",
    "            \"x_p\": 5,\n",
    "            \"r_n\": 8,\n",
    "            \"r_p\": 8,\n",
    "        }\n",
    "        self.solver = pybamm.IDAKLUSolver(atol=1e-5, rtol=1e-5)\n",
    "        self.cycle_number = cycles  # for  aging\n",
    "\n",
    "        self.data = {} #filled after the simulation, used to evaluate fitness\n",
    "\n",
    "    def run(self):\n",
    "        solutions = []\n",
    "        # Run 1 full charge/discharge/hold cycle at a time\n",
    "        for cycle in range(1, self.cycle_number + 1):\n",
    "            print(f\"\\n Running cycle {cycle}...\")\n",
    "\n",
    "            # Run the cycle using the aged model \n",
    "            sim = pybamm.Simulation(\n",
    "                self.aged_model,\n",
    "                parameter_values=self.param,\n",
    "                experiment=self.exp,\n",
    "                solver=self.solver,\n",
    "                var_pts=self.var_pts,\n",
    "            )\n",
    "            sol = sim.solve(calc_esoh=True,initial_soc=1)\n",
    "            if cycle in [1, self.cycle_number]:\n",
    "                solutions.append(sol)\n",
    "        \n",
    "        # Extract relevant info to later evaluate the model\n",
    "        SOH0 = solutions[1].summary_variables[\"Capacity [A.h]\"][0] / solutions[0].summary_variables[\"Capacity [A.h]\"][0]\n",
    "        SOH1 = solutions[1].summary_variables[\"Capacity [A.h]\"][-1] / solutions[0].summary_variables[\"Capacity [A.h]\"][-1]\n",
    "        data['delta SOH'] = SOH0 - SOH1\n",
    "\n",
    "        # Now let's get the time elapsed for a complete charge\n",
    "        # Consider only the first one, greedy approach that mirrors the request\n",
    "        self.data['time'] = solutions[0][\"Time [s]\"].entries[-1] - solutions[0][\"Time [s]\"].entries[0]\n",
    "\n",
    "\n",
    "    def evaluate_fitness(profile=None):\n",
    "        if profile.lower == 'fast charge':\n",
    "            return\n",
    "\n",
    "        if profile == 'sustainable':\n",
    "            return\n",
    "\n",
    "        if profile == 'long life':\n",
    "            return \n",
    "\n",
    "        # Here profile can only be all day    \n",
    "        return"
   ]
  },
  {
   "cell_type": "code",
   "execution_count": null,
   "id": "e84de851",
   "metadata": {},
   "outputs": [
    {
     "name": "stdout",
     "output_type": "stream",
     "text": [
      "\n",
      " Running cycle 1...\n",
      "\n",
      " Running cycle 2...\n",
      "\n",
      " Running cycle 3...\n",
      "\n",
      " Running cycle 4...\n",
      "-1.8487580980601592 , 21.393818776158426\n",
      "{'SOH': 1.0, 'time': 12044.890264810203, 'energy_loss': -23.2426, 'efficiency': -1157.1994626342005}\n"
     ]
    }
   ],
   "source": [
    "# Define what is needed to do genetic algorithm to find best profiles\n",
    "es = pybamm.Experiment([\n",
    "    (\n",
    "        \"Discharge at 1C until 2.5 V\",\n",
    "        \"Charge at 5 A until 4.2 V\",\n",
    "        \"Hold at 4.2 V until C/100\",\n",
    "        \"Rest for 30 minutes\",\n",
    "    )\n",
    "],period=\"30 minutes\",) #change this for good accuracy\n",
    "\n",
    "test = simul(es, 4)\n",
    "test.run()"
   ]
  },
  {
   "cell_type": "code",
   "execution_count": 34,
   "id": "ebc89b8b",
   "metadata": {},
   "outputs": [
    {
     "name": "stdout",
     "output_type": "stream",
     "text": [
      "['Discharge at 1C until 2.5 V', 'Charge at 0.50 A for 15 minutes', 'Rest for 10 minutes', 'Charge at 0.70 A until 4.2 V', 'Hold at 4.2 V until C/50', 'Rest for 30 minutes']\n"
     ]
    }
   ],
   "source": [
    "profiles = ['fast charge', 'sustainable', 'long life', 'all day']\n",
    "from math import sqrt\n",
    "\n",
    "# Genetic stuff\n",
    "def random_profile():\n",
    "\n",
    "    a, b = 2, 5  # number of charges setted with a beta\n",
    "    number_of_charge = int(max(1, np.ceil(6 * np.random.beta(a, b))))\n",
    "\n",
    "    ampere_per_charge = [max(0.5, min(np.random.normal(0.5, 0.5), 2))]\n",
    "    for i in range (1, number_of_charge):\n",
    "        ampere_per_charge.append(max(ampere_per_charge[i-1] + 0.1, min(np.random.normal(ampere_per_charge[i-1], 1), 2)))\n",
    "    \n",
    "    time_per_charge = [int(max(15, min(np.random.normal(20, 10), 30))) for _ in range (number_of_charge)] #if the number of charge are 1, no time is used but only the until 4.2 V\n",
    "    \n",
    "    hold_cutoff = np.random.choice([\"C/100\", \"C/50\", \"C/20\"])\n",
    "\n",
    "    sol = [\"Discharge at 1C until 2.5 V\"]\n",
    "\n",
    "    for i in range (number_of_charge):\n",
    "        if i != number_of_charge - 1:\n",
    "            sol.append(f\"Charge at {ampere_per_charge[i]:.2f} A for {time_per_charge[i]} minutes\")\n",
    "            if np.random.uniform(0, 1) < 0.2: # 20% possibility of a little rest\n",
    "                sol.append(f\"Rest for {int(max(10, min(np.random.normal(20, 10), 30)))} minutes\")\n",
    "        else:\n",
    "            s = f\"Charge at {ampere_per_charge[i]:.2f} A until 4.2 V\"\n",
    "            sol.append(s)\n",
    "            sol.append(f\"Hold at 4.2 V until {hold_cutoff}\")\n",
    "            sol.append(\"Rest for 30 minutes\")\n",
    "\n",
    "    return sol\n",
    "\n",
    "print(random_profile())"
   ]
  },
  {
   "cell_type": "code",
   "execution_count": 40,
   "id": "8914c65d",
   "metadata": {},
   "outputs": [
    {
     "name": "stdout",
     "output_type": "stream",
     "text": [
      "\n",
      " Running cycle 1...\n",
      "\n",
      " Running cycle 2...\n",
      "\n",
      " Running cycle 3...\n",
      "\n",
      " Running cycle 4...\n",
      "-2.8724698849034067 , 21.31674390069497\n"
     ]
    }
   ],
   "source": [
    "es = pybamm.Experiment([\n",
    "    tuple(random_profile())\n",
    "],period=\"30 minutes\",) #change this for good accuracy\n",
    "\n",
    "test = simul(es, 4)\n",
    "test.run()"
   ]
  },
  {
   "cell_type": "code",
   "execution_count": 42,
   "id": "2cf7d2ff",
   "metadata": {},
   "outputs": [
    {
     "name": "stdout",
     "output_type": "stream",
     "text": [
      "{'SOH': 1.0, 'time': 15531.707904690102, 'energy_loss': -24.1892, 'efficiency': -742.1050439110797}\n"
     ]
    }
   ],
   "source": [
    "print(test.data)"
   ]
  }
 ],
 "metadata": {
  "kernelspec": {
   "display_name": "Python 3",
   "language": "python",
   "name": "python3"
  },
  "language_info": {
   "codemirror_mode": {
    "name": "ipython",
    "version": 3
   },
   "file_extension": ".py",
   "mimetype": "text/x-python",
   "name": "python",
   "nbconvert_exporter": "python",
   "pygments_lexer": "ipython3",
   "version": "3.12.3"
  }
 },
 "nbformat": 4,
 "nbformat_minor": 5
}
