{
 "cells": [
  {
   "cell_type": "code",
   "execution_count": null,
   "id": "aa5d1352",
   "metadata": {},
   "outputs": [],
   "source": [
    "#install\n",
    "import pybamm\n",
    "import pybammeis\n",
    "import matplotlib.pyplot as plt\n",
    "import numpy as np\n",
    "import matplotlib.pyplot as plt\n",
    "import numpy as np"
   ]
  },
  {
   "cell_type": "code",
   "execution_count": 39,
   "id": "94ccb1c7",
   "metadata": {},
   "outputs": [
    {
     "name": "stdout",
     "output_type": "stream",
     "text": [
      "\n",
      " Running cycle 1...\n",
      "\n",
      " Running cycle 2...\n",
      "\n",
      " Running cycle 3...\n",
      "\n",
      " Running cycle 4...\n",
      "\n",
      " Running cycle 5...\n",
      "\n",
      " Running cycle 6...\n",
      "\n",
      " Running cycle 7...\n",
      "\n",
      " Running cycle 8...\n",
      "\n",
      " Running cycle 9...\n",
      "\n",
      " Running cycle 10...\n"
     ]
    }
   ],
   "source": [
    "#install\n",
    "import pybamm\n",
    "import pybammeis\n",
    "import matplotlib.pyplot as plt\n",
    "import numpy as np\n",
    "import matplotlib.pyplot as plt\n",
    "import numpy as np\n",
    "\n",
    "# Set seed \n",
    "np.random.seed(0)\n",
    "\n",
    "# Define the DFN model or PMe model with degradation mechanisms(SEI growth & lithium plating and particle cracking)\n",
    "\n",
    "model = pybamm.lithium_ion.DFN(\n",
    "    {\n",
    "      \"thermal\": \"isothermal\",\n",
    "      \"SEI\": \"solvent-diffusion limited\",\n",
    "       \"SEI porosity change\": \"true\",\n",
    "       \"lithium plating\": \"partially reversible\",\n",
    "       \"lithium plating porosity change\": \"true\",  # alias for \"SEI porosity change\"\n",
    "       \"particle mechanics\": (\"swelling and cracking\",\"swelling only\"),\n",
    "       \"SEI on cracks\": \"true\",\n",
    "        \"loss of active material\": \"stress-driven\",\n",
    "        \"calculate discharge energy\": \"true\",  # for compatibility with older PyBaMM versionsg\n",
    "        \n",
    "    }\n",
    ")\n",
    "\n",
    "# Load parameter values (OKane2022)\n",
    "param = pybamm.ParameterValues(\"OKane2022\")\n",
    "param.update({\n",
    "    \"Initial temperature [K]\": 278.15, #change the temperature \n",
    "    \"SEI growth activation energy [J.mol-1]\": 37000.0,\n",
    "    #\"Negative electrode initial crack length [m]\":2e-99,\n",
    "    #\"Positive electrode initial crack length [m]\":2e-8,\n",
    "    #\"Negative electrode initial crack width [m]\":1.5e-99,\n",
    "    #\"Positive electrode initial crack width [m]\":1.5e-8,\n",
    "    \"Ambient temperature [K]\": 278.15,},)\n",
    "\n",
    "# Discretization points\n",
    "var_pts = {\n",
    "    \"x_n\": 5,\n",
    "    \"x_s\": 5,\n",
    "    \"x_p\": 5,\n",
    "    \"r_n\": 30,\n",
    "    \"r_p\": 30,\n",
    "}\n",
    "\n",
    "\n",
    "safe_solver = pybamm.IDAKLUSolver() #for fast simulation\n",
    "# Number of cycles\n",
    "cycle_number = 10  # for  aging\n",
    "\n",
    "\n",
    "aged_model = model\n",
    "all_solutions = [] \n",
    "\n",
    "# Run 1 full charge/discharge/hold cycle at a time\n",
    "for cycle in range(1, cycle_number + 1):\n",
    "    print(f\"\\n Running cycle {cycle}...\")\n",
    "\n",
    "    # Define a single full cycle\n",
    "    exp = pybamm.Experiment([\n",
    "        (\n",
    "            \"Discharge at 1C until 2.5 V\",\n",
    "            \"Charge at 5 A until 4.2 V\",\n",
    "            \"Hold at 4.2 V until C/100\",\n",
    "            \"Rest for 30 minutes\",\n",
    "        )\n",
    "    ],period=\"1 minutes\",) #change this for good accuracy\n",
    "\n",
    "    # Run the cycle using the aged model \n",
    "    sim = pybamm.Simulation(\n",
    "        aged_model,\n",
    "        parameter_values=param,\n",
    "        experiment=exp,\n",
    "        solver=safe_solver,\n",
    "        var_pts=var_pts,\n",
    "    )\n",
    "    sol = sim.solve(calc_esoh=True,initial_soc=1)\n",
    "    all_solutions.append(sol)\n",
    "    # Calculate the capacity and SOH\n",
    "   \n",
    "    # Update the model with the aged state\n",
    "    aged_model = model.set_initial_conditions_from(sol)\n",
    "    \n"
   ]
  },
  {
   "cell_type": "code",
   "execution_count": 50,
   "id": "415858bf",
   "metadata": {},
   "outputs": [],
   "source": [
    "# degradation metrics\n",
    "\n",
    "Q_initial = None\n",
    "throughput_capacities = []\n",
    "discharge_capacities = []\n",
    "loss_lithium_ah = []\n",
    "SOH_values = []\n",
    "\n",
    "Q_SEI = []\n",
    "Q_SEI_cr = []\n",
    "Q_plating = []\n",
    "Q_LLI = []\n",
    "Qt = []\n",
    "charge_times = []\n",
    "discharges_times = []\n",
    "rest_times = []\n",
    "hold_times = []\n",
    "total_times = []\n",
    "Voltage = []\n",
    "current = []\n",
    "# ------------------------------\n",
    "# Extract degradation data\n",
    "\n",
    "for i in range(len(all_solutions)):\n",
    "    \n",
    "        discharge = all_solutions[i].cycles[0].steps[0]\n",
    "        charge    = all_solutions[i].cycles[0].steps[1]\n",
    "        hold      = all_solutions[i].cycles[0].steps[2]\n",
    "        rest = all_solutions[i].cycles[0].steps[3]\n",
    "\n",
    "         # Individual step durations\n",
    "        t_discharge = discharge[\"Time [h]\"].entries[-1]\n",
    "        t_charge = charge[\"Time [h]\"].entries[-1]\n",
    "        t_hold = charge[\"Time [h]\"].entries[-1]\n",
    "        t_rest = rest[\"Time [h]\"].entries[-1]\n",
    "        Voltage_cycles=all_solutions[i][\"Voltage [V]\"].entries\n",
    "        # Discharge capacity and throughput\n",
    "        Q_discharge = discharge[\"Discharge capacity [A.h]\"].entries[-1]\n",
    "        Q_throughput = discharge[\"Throughput capacity [A.h]\"].entries[-1]\n",
    "        Voltage.append(Voltage_cycles)\n",
    "        #times\n",
    "        charge_times.append(t_charge)\n",
    "        discharges_times.append(t_discharge)\n",
    "        rest_times.append(t_rest)\n",
    "        hold_times.append(t_hold)\n",
    "        total_times.append(t_discharge + t_charge + t_hold + t_rest)\n",
    "         \n",
    "        if Q_initial is None:\n",
    "            Q_initial =  Q_discharge # \n",
    "            \n",
    "\n",
    "        throughput_capacities.append(Q_throughput)\n",
    "        discharge_capacities.append(Q_discharge)\n",
    "        SOH_values.append(Q_discharge / Q_initial)\n",
    "    \n",
    "\n",
    "        # Lithium inventory loss (mol → Ah)\n",
    "        lli_mol = hold[\"Total lithium lost [mol]\"].entries[-1]\n",
    "        lli_ah = lli_mol * 96485.3 / 3600\n",
    "        loss_lithium_ah.append(lli_ah)\n",
    "        Q_LLI.append(lli_ah)\n",
    "\n",
    "        # Degradation contributions\n",
    "        Qt.append(hold[\"Throughput capacity [A.h]\"].entries[-1])\n",
    "        Q_SEI.append(hold[\"Loss of capacity to negative SEI [A.h]\"].entries[-1])\n",
    "        Q_SEI_cr.append(all_solutions[i][\"Loss of capacity to negative SEI on cracks [A.h]\"].entries[-1])\n",
    "        Q_plating.append(hold[\"Loss of capacity to negative lithium plating [A.h]\"].entries[-1])"
   ]
  },
  {
   "cell_type": "code",
   "execution_count": null,
   "id": "ab2269ac",
   "metadata": {},
   "outputs": [
    {
     "data": {
      "text/plain": [
       "[<matplotlib.lines.Line2D at 0x1921063e610>]"
      ]
     },
     "execution_count": 56,
     "metadata": {},
     "output_type": "execute_result"
    },
    {
     "data": {
      "image/png": "[encoded data removed]",
      "text/plain": [
       "<Figure size 640x480 with 1 Axes>"
      ]
     },
     "metadata": {},
     "output_type": "display_data"
    }
   ],
   "source": [
    "plt.plot(discharge_capacities)"
   ]
  },
  {
   "cell_type": "code",
   "execution_count": null,
   "id": "7ebd2282",
   "metadata": {},
   "outputs": [],
   "source": [
    "def calulate_SoC(Q_vec, delta_t, const_i, t_cycle):\n",
    "    Soc = 1 + (const_i * t_cycle)/(Q_vec[0]*36000)\n",
    "\n",
    "    for i in range(1, len(Q_vec) - 2):\n",
    "        Soc = Soc + (const_i * t_cycle)/(Q_vec[i-1]*36000)\n",
    "        print(Soc)\n",
    "    \n",
    "    actual_SoC = Soc + (const_i * delta_t)/(Q_vec[-1]*36000)\n",
    "\n",
    "    return actual_SoC"
   ]
  },
  {
   "cell_type": "code",
   "execution_count": 183,
   "id": "e73e0789",
   "metadata": {},
   "outputs": [],
   "source": [
    "import pandas as pd\n",
    "\n",
    "df = pd.read_csv(\"D:\\Hackathon EESTech 2025\\EESTEC-HACKATHON-2025\\data 1\\degradation.csv\")\n",
    "\n",
    "\n",
    "voltages_history = df[\"Voltage\"]\n",
    "voltages = []\n",
    "for voltage_h in voltages_history[:1]:\n",
    "    voltage_h_no_chars = voltage_h.replace(\"[\", \"\")\n",
    "    voltage_h_no_chars = voltage_h_no_chars.replace(\"]\", \"\")\n",
    "    voltage = np.array([float(v.strip()) for v in voltage_h_no_chars.split()])\n",
    "    voltages.append(voltage)\n"
   ]
  },
  {
   "cell_type": "code",
   "execution_count": 187,
   "id": "56c96444",
   "metadata": {},
   "outputs": [
    {
     "data": {
      "text/plain": [
       "254.0"
      ]
     },
     "execution_count": 187,
     "metadata": {},
     "output_type": "execute_result"
    }
   ],
   "source": [
    "avg_cycle_time = 0\n",
    "for serie in voltages:\n",
    "    avg_cycle_time += len(serie)\n",
    "\n",
    "avg_cycle_time = avg_cycle_time / len(voltages)\n",
    "\n",
    "avg_cycle_time"
   ]
  },
  {
   "cell_type": "code",
   "execution_count": 188,
   "id": "bd4b6ca7",
   "metadata": {},
   "outputs": [
    {
     "data": {
      "text/plain": [
       "[<matplotlib.lines.Line2D at 0x1922f598610>]"
      ]
     },
     "execution_count": 188,
     "metadata": {},
     "output_type": "execute_result"
    },
    {
     "data": {
      "image/png": "[encoded data removed]",
      "text/plain": [
       "<Figure size 640x480 with 1 Axes>"
      ]
     },
     "metadata": {},
     "output_type": "display_data"
    }
   ],
   "source": [
    "plt.plot(df[\"discharge_capacities\"], label=\"Discharge capacity\")"
   ]
  },
  {
   "cell_type": "code",
   "execution_count": null,
   "id": "c5699948",
   "metadata": {},
   "outputs": [
    {
     "name": "stdout",
     "output_type": "stream",
     "text": [
      "0.9970736335818826\n",
      "0.9956099729368648\n",
      "0.9941458546007188\n",
      "0.9926813169895944\n",
      "0.9912163826357322\n",
      "0.9897510670439597\n",
      "0.9882853822789269\n",
      "0.9868193377446414\n",
      "0.9853529411224909\n",
      "0.9838861989548492\n",
      "0.9824191182605646\n",
      "0.9809517038451347\n",
      "0.9794839597886299\n",
      "0.9780158932851419\n",
      "0.9765475066879007\n",
      "0.9750788039536722\n",
      "0.9736097893364712\n",
      "0.9721404661275266\n",
      "0.9706708368040697\n",
      "0.9692009047646982\n",
      "0.9677306713475279\n",
      "0.9662601433575542\n",
      "0.9647893194931098\n",
      "0.9633182058361154\n",
      "0.9618468032164382\n",
      "0.9603751140638662\n",
      "0.9589031414035875\n",
      "0.9574308849689878\n",
      "0.9559583483825583\n",
      "0.9544855343991285\n",
      "0.9530124444520736\n",
      "0.9515390803798826\n",
      "0.9500654446618103\n",
      "0.9485915434492158\n",
      "0.9471173689610103\n",
      "0.9456429278441284\n",
      "0.9441682211630085\n",
      "0.9426932515991007\n",
      "0.9412180202848623\n",
      "0.9397425279034303\n",
      "0.9382667773892309\n",
      "0.9367907690986935\n",
      "0.9353145049152238\n",
      "0.9338379859301902\n",
      "0.9323612206878752\n",
      "0.9308841971066734\n",
      "0.9294069219060352\n",
      "0.9279293973580733\n",
      "0.9264516251948454\n",
      "0.9249736051583817\n",
      "0.9970736335818826\n",
      "0.9956099729368648\n",
      "0.9941458546007188\n",
      "0.9926813169895944\n",
      "0.9912163826357322\n",
      "0.9897510670439597\n",
      "0.9882853822789269\n",
      "0.9868193377446414\n",
      "0.9853529411224909\n",
      "0.9838861989548492\n",
      "0.9824191182605646\n",
      "0.9809517038451347\n",
      "0.9794839597886299\n",
      "0.9780158932851419\n",
      "0.9765475066879007\n",
      "0.9750788039536722\n",
      "0.9736097893364712\n",
      "0.9721404661275266\n",
      "0.9706708368040697\n",
      "0.9692009047646982\n",
      "0.9677306713475279\n",
      "0.9662601433575542\n",
      "0.9647893194931098\n",
      "0.9633182058361154\n",
      "0.9618468032164382\n",
      "0.9603751140638662\n",
      "0.9589031414035875\n",
      "0.9574308849689878\n",
      "0.9559583483825583\n",
      "0.9544855343991285\n",
      "0.9530124444520736\n",
      "0.9515390803798826\n",
      "0.9500654446618103\n",
      "0.9485915434492158\n",
      "0.9471173689610103\n",
      "0.9456429278441284\n",
      "0.9441682211630085\n",
      "0.9426932515991007\n",
      "0.9412180202848623\n",
      "0.9397425279034303\n",
      "0.9382667773892309\n",
      "0.9367907690986935\n",
      "0.9353145049152238\n",
      "0.9338379859301902\n",
      "0.9323612206878752\n",
      "0.9308841971066734\n",
      "0.9294069219060352\n",
      "0.9279293973580733\n",
      "0.9264516251948454\n",
      "0.9249736051583817\n"
     ]
    }
   ],
   "source": [
    "Q_vec = df[\"discharge_capacities\"].to_list()\n",
    "my_SoC = calulate_SoC(Q_vec, 100000, -1, avg_cycle_time)\n",
    "my_SoC0 = calulate_SoC(Q_vec, 0, -1, avg_cycle_time)"
   ]
  },
  {
   "cell_type": "code",
   "execution_count": 213,
   "id": "7556ab28",
   "metadata": {},
   "outputs": [
    {
     "data": {
      "text/plain": [
       "(0.3427873928616908, 0.9249736051583817)"
      ]
     },
     "execution_count": 213,
     "metadata": {},
     "output_type": "execute_result"
    }
   ],
   "source": [
    "my_SoC, my_SoC0"
   ]
  }
 ],
 "metadata": {
  "kernelspec": {
   "display_name": "Python 3",
   "language": "python",
   "name": "python3"
  },
  "language_info": {
   "codemirror_mode": {
    "name": "ipython",
    "version": 3
   },
   "file_extension": ".py",
   "mimetype": "text/x-python",
   "name": "python",
   "nbconvert_exporter": "python",
   "pygments_lexer": "ipython3",
   "version": "3.11.8"
  }
 },
 "nbformat": 4,
 "nbformat_minor": 5
}
